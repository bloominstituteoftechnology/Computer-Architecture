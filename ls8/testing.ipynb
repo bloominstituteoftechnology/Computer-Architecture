{
 "cells": [
  {
   "cell_type": "code",
   "execution_count": 7,
   "metadata": {},
   "outputs": [],
   "source": [
    "ram = [0b000000000]*8\n",
    "address = 0\n",
    "program = [\n",
    "            # From print8.ls8\n",
    "            0b10000010, # LDI R0,8\n",
    "            0b00000000,\n",
    "            0b00001000,\n",
    "            0b01000111, # PRN R0\n",
    "            0b00000000,\n",
    "            0b00000001, # HLT\n",
    "        ]\n",
    "for instruction in program:\n",
    "    ram[address] = bin(instruction)\n",
    "    address += 1"
   ]
  },
  {
   "cell_type": "code",
   "execution_count": 8,
   "metadata": {},
   "outputs": [
    {
     "data": {
      "text/plain": [
       "['0b10000010', '0b0', '0b1000', '0b1000111', '0b0', '0b1', 0, 0]"
      ]
     },
     "execution_count": 8,
     "metadata": {},
     "output_type": "execute_result"
    }
   ],
   "source": [
    "ram"
   ]
  },
  {
   "cell_type": "code",
   "execution_count": null,
   "metadata": {},
   "outputs": [],
   "source": []
  }
 ],
 "metadata": {
  "kernelspec": {
   "display_name": "Python 3",
   "language": "python",
   "name": "python3"
  },
  "language_info": {
   "codemirror_mode": {
    "name": "ipython",
    "version": 3
   },
   "file_extension": ".py",
   "mimetype": "text/x-python",
   "name": "python",
   "nbconvert_exporter": "python",
   "pygments_lexer": "ipython3",
   "version": "3.8.5"
  }
 },
 "nbformat": 4,
 "nbformat_minor": 2
}
